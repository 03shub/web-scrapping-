{
 "cells": [
  {
   "cell_type": "code",
   "execution_count": 1,
   "metadata": {},
   "outputs": [
    {
     "name": "stdout",
     "output_type": "stream",
     "text": [
      "Requirement already satisfied: selenium in c:\\users\\shubham aggarwal\\anaconda3\\lib\\site-packages (3.141.0)\n",
      "Requirement already satisfied: urllib3 in c:\\users\\shubham aggarwal\\anaconda3\\lib\\site-packages (from selenium) (1.25.11)\n"
     ]
    }
   ],
   "source": [
    "! pip install selenium"
   ]
  },
  {
   "cell_type": "code",
   "execution_count": 176,
   "metadata": {},
   "outputs": [],
   "source": [
    "import pandas as pd\n",
    "from selenium import webdriver\n",
    "import selenium "
   ]
  },
  {
   "cell_type": "code",
   "execution_count": 4,
   "metadata": {},
   "outputs": [],
   "source": [
    "driver = webdriver.Chrome(\"chromedriver.exe\")"
   ]
  },
  {
   "cell_type": "code",
   "execution_count": 5,
   "metadata": {},
   "outputs": [],
   "source": [
    "url = \" https://www.naukri.com/\""
   ]
  },
  {
   "cell_type": "code",
   "execution_count": 6,
   "metadata": {},
   "outputs": [],
   "source": [
    "driver.get(url)"
   ]
  },
  {
   "cell_type": "code",
   "execution_count": 7,
   "metadata": {},
   "outputs": [],
   "source": [
    "job_search = driver.find_element_by_class_name(\"sugInp\")"
   ]
  },
  {
   "cell_type": "code",
   "execution_count": 11,
   "metadata": {},
   "outputs": [
    {
     "data": {
      "text/plain": [
       "<selenium.webdriver.remote.webelement.WebElement (session=\"f27e87b0d97fcfa33aed0ba93f450906\", element=\"d2927525-08b0-490f-a2ed-1336d4e39dba\")>"
      ]
     },
     "execution_count": 11,
     "metadata": {},
     "output_type": "execute_result"
    }
   ],
   "source": [
    "job_search"
   ]
  },
  {
   "cell_type": "code",
   "execution_count": 14,
   "metadata": {},
   "outputs": [],
   "source": [
    "job_search.send_keys(\"data analyst\")"
   ]
  },
  {
   "cell_type": "code",
   "execution_count": 12,
   "metadata": {},
   "outputs": [],
   "source": [
    "location = driver.find_element_by_id(\"qsb-location-sugg\")"
   ]
  },
  {
   "cell_type": "code",
   "execution_count": 13,
   "metadata": {},
   "outputs": [
    {
     "data": {
      "text/plain": [
       "<selenium.webdriver.remote.webelement.WebElement (session=\"f27e87b0d97fcfa33aed0ba93f450906\", element=\"a57577ce-8857-42d0-9ba8-e60286ed35d7\")>"
      ]
     },
     "execution_count": 13,
     "metadata": {},
     "output_type": "execute_result"
    }
   ],
   "source": [
    "location"
   ]
  },
  {
   "cell_type": "code",
   "execution_count": 15,
   "metadata": {},
   "outputs": [],
   "source": [
    "location.send_keys(\"banglore\")"
   ]
  },
  {
   "cell_type": "code",
   "execution_count": 16,
   "metadata": {},
   "outputs": [],
   "source": [
    "btn = driver.find_element_by_class_name(\"btn\")"
   ]
  },
  {
   "cell_type": "code",
   "execution_count": 17,
   "metadata": {},
   "outputs": [],
   "source": [
    "btn.click()"
   ]
  },
  {
   "cell_type": "code",
   "execution_count": 20,
   "metadata": {},
   "outputs": [],
   "source": [
    "job = driver.find_elements_by_xpath(\"//a[@class='title fw500 ellipsis']\")"
   ]
  },
  {
   "cell_type": "code",
   "execution_count": 21,
   "metadata": {},
   "outputs": [
    {
     "data": {
      "text/plain": [
       "['Business Data Analyst',\n",
       " 'Senior Data Analyst IDAM Services',\n",
       " 'Data Analyst/Sr.Data Engineer',\n",
       " 'Business Data Analyst',\n",
       " 'Business Data Analyst - Google Data Studio & SQL',\n",
       " 'Executive Data Analyst',\n",
       " 'Senior Data Analyst',\n",
       " 'Systems and Data Analyst, Safety and Provisioning',\n",
       " 'Data Analyst with SQL',\n",
       " 'Data Analyst',\n",
       " 'Hiring For the role - DATA Analyst (Flipkart)',\n",
       " 'Senior Associate, Data Hierarchy Analyst( MDM)',\n",
       " 'Business Data Analyst - MIS & Reporting',\n",
       " 'Data Analyst - Python/SQL',\n",
       " 'Data Analyst - EdTech',\n",
       " 'Lead , Data Analyst',\n",
       " 'Data Analyst with SAS & Python',\n",
       " 'Data Analyst',\n",
       " 'Data Analyst',\n",
       " 'Data Analyst']"
      ]
     },
     "execution_count": 21,
     "metadata": {},
     "output_type": "execute_result"
    }
   ],
   "source": [
    "job_ = []\n",
    "for i in job:\n",
    "    job_.append(i.text)\n",
    "job_"
   ]
  },
  {
   "cell_type": "code",
   "execution_count": 23,
   "metadata": {},
   "outputs": [],
   "source": [
    "company = driver.find_elements_by_xpath(\"//a[@class='subTitle ellipsis fleft']\")"
   ]
  },
  {
   "cell_type": "code",
   "execution_count": 24,
   "metadata": {},
   "outputs": [
    {
     "data": {
      "text/plain": [
       "['Trigent Software',\n",
       " 'GlaxoSmithKline Pharmaceuticals Limited',\n",
       " 'SYREN TECHNOLOGIES PRIVATE LIMITED',\n",
       " 'Trigent Software',\n",
       " 'AVE-Promagne',\n",
       " 'Gokaldas Exports Ltd',\n",
       " 'Virtusa Consulting Services Pvt Ltd',\n",
       " 'AECOM India Private Limited',\n",
       " 'Wipro Limited',\n",
       " 'IBM India Pvt. Limited',\n",
       " 'Allegis Services India Pvt. Ltd.',\n",
       " 'GENPACT India Private Limited',\n",
       " 'INTERTRUST GROUP',\n",
       " 'Affine',\n",
       " 'TalentStack',\n",
       " 'Near Pte. Ltd.',\n",
       " 'Podium Systems',\n",
       " 'Coda Payments',\n",
       " 'FedEx Express',\n",
       " 'Supertails']"
      ]
     },
     "execution_count": 24,
     "metadata": {},
     "output_type": "execute_result"
    }
   ],
   "source": [
    "company_ = []\n",
    "for i in company:\n",
    "    company_.append(i.text)\n",
    "    \n",
    "company_"
   ]
  },
  {
   "cell_type": "code",
   "execution_count": 27,
   "metadata": {},
   "outputs": [],
   "source": [
    "skill = driver.find_elements_by_xpath(\"//ul[@class='tags has-description']\")"
   ]
  },
  {
   "cell_type": "code",
   "execution_count": 28,
   "metadata": {},
   "outputs": [
    {
     "data": {
      "text/plain": [
       "['DAX Formulas\\ncloud services\\npython\\nMS Excel\\nBusiness Data Analyst\\nPower Point\\nopen-source technologies\\nTableau',\n",
       " 'Procurement\\nBusiness analysis\\nAccess management\\nActive directory\\nAgile\\nHealthcare\\nInformation technology\\nTechnical support',\n",
       " 'IT Skills\\nPower BI\\nBusiness Intelligence\\nMicrosoft Power Bi\\nBi\\nData Modeling\\nData Analytics\\nETL Tool',\n",
       " 'DAX Formulas\\ncloud services\\npython\\nMS Excel\\nBusiness Data Analyst\\nPower Point\\nopen-source technologies\\nTableau',\n",
       " 'Google Data Studio\\nData Support\\nData Analysis\\nData Analyst\\nTableau\\nAnalytics\\nSQL',\n",
       " 'Excel\\nExport House\\nData Management\\nData Analysis\\nDashboards\\nMerchandising\\nManufacturing Process',\n",
       " 'Data Gap analysis\\ndata analysis\\nSalesforce\\nSFDC\\nsalesforce sales\\nIT Skills\\nCloud\\nSalesforce Cpq',\n",
       " 'Data Analysis\\nData Analyst\\nInformation Technology',\n",
       " 'Data Modelling\\nSQL\\nData Analysis\\nJIRA\\nSQL queries\\nStored Procedures\\nConfluence\\nData Modeling',\n",
       " 'Supply chain management\\nSAP ERP\\nBusiness transformation\\nDb2\\nMicrosoft applications\\nAgile\\nIssue resolution\\ndata integrity',\n",
       " 'Excel\\nSQL\\nPower Bi\\nProblem Solving\\nAdvanced Excel\\nTableau\\nQlikView\\nAnalytics',\n",
       " 'BPO\\ndata analysis\\nData Quality\\nVisual Basic\\nMS Access\\nMaster Data Management\\nMacros',\n",
       " 'Tableau\\nETL\\nBI Tools\\nProject Requirement\\nAlteryx\\nData Exploration\\nData Collection\\nReporting',\n",
       " 'IT Skills\\nPython\\nMachine Learning\\nAWS\\nPower BI\\nData Analyst\\nData Analytics\\nETL',\n",
       " 'Data Analyst\\nData Analytics\\nAnalytics\\nSQL\\nPython',\n",
       " 'Data Science\\nContent Marketing\\nProblem Solving\\nBig Data\\nData Engineer\\nData Visualization\\nData Analyst\\nData Analytics',\n",
       " 'IT Skills\\nPython\\nBig Data\\nHive\\nCMD\\nData Analyst with SAS & Python',\n",
       " 'R\\nProject Management\\nRisk Analytics\\nComputer Science\\nData Analyst\\nTableau\\nStatistical Modelling\\nStatistics',\n",
       " 'Data Analysis\\nAnalytics\\nData Science\\nRevenue Management',\n",
       " 'Analysis\\nAdvanced Excel\\nFormulas\\nCharts\\nTables\\nData Visualization\\nPivot']"
      ]
     },
     "execution_count": 28,
     "metadata": {},
     "output_type": "execute_result"
    }
   ],
   "source": [
    "skill_ = []\n",
    "for i in skill:\n",
    "    skill_.append(i.text)\n",
    "    \n",
    "skill_"
   ]
  },
  {
   "cell_type": "code",
   "execution_count": 33,
   "metadata": {},
   "outputs": [],
   "source": [
    "data = pd.DataFrame({})\n",
    "data['job_']=job_[0:11]\n",
    "data['company_']=company_[0:11]\n",
    "data['skill']=skill_[0:11]"
   ]
  },
  {
   "cell_type": "markdown",
   "metadata": {},
   "source": []
  },
  {
   "cell_type": "code",
   "execution_count": null,
   "metadata": {},
   "outputs": [],
   "source": []
  },
  {
   "cell_type": "markdown",
   "metadata": {},
   "source": [
    "\n",
    "# 3 question "
   ]
  },
  {
   "cell_type": "code",
   "execution_count": 45,
   "metadata": {},
   "outputs": [],
   "source": [
    "url  = \" https://www.naukri.com/\""
   ]
  },
  {
   "cell_type": "code",
   "execution_count": 46,
   "metadata": {},
   "outputs": [],
   "source": [
    "driver.get(url)"
   ]
  },
  {
   "cell_type": "code",
   "execution_count": 47,
   "metadata": {},
   "outputs": [],
   "source": [
    "job_search = driver.find_element_by_class_name(\"sugInp\")"
   ]
  },
  {
   "cell_type": "code",
   "execution_count": 48,
   "metadata": {},
   "outputs": [],
   "source": [
    "job_search.send_keys(\"data scientist\")"
   ]
  },
  {
   "cell_type": "code",
   "execution_count": 49,
   "metadata": {},
   "outputs": [],
   "source": [
    "location = driver.find_element_by_id(\"qsb-location-sugg\")"
   ]
  },
  {
   "cell_type": "code",
   "execution_count": 50,
   "metadata": {},
   "outputs": [
    {
     "data": {
      "text/plain": [
       "<selenium.webdriver.remote.webelement.WebElement (session=\"f27e87b0d97fcfa33aed0ba93f450906\", element=\"953e5bd9-00d4-4958-ab2c-98630b4f41c7\")>"
      ]
     },
     "execution_count": 50,
     "metadata": {},
     "output_type": "execute_result"
    }
   ],
   "source": [
    "location"
   ]
  },
  {
   "cell_type": "code",
   "execution_count": 51,
   "metadata": {},
   "outputs": [],
   "source": [
    "location.send_keys(\"delhi\")"
   ]
  },
  {
   "cell_type": "code",
   "execution_count": 52,
   "metadata": {},
   "outputs": [],
   "source": [
    "btn = driver.find_element_by_class_name(\"btn\")"
   ]
  },
  {
   "cell_type": "code",
   "execution_count": 53,
   "metadata": {},
   "outputs": [],
   "source": [
    "btn.click()"
   ]
  },
  {
   "cell_type": "code",
   "execution_count": 54,
   "metadata": {},
   "outputs": [],
   "source": [
    "btnn = driver.find_element_by_xpath(\"//i[@class='fleft naukicon naukicon-checkbox']\")"
   ]
  },
  {
   "cell_type": "code",
   "execution_count": 55,
   "metadata": {},
   "outputs": [],
   "source": [
    "btnn.click()"
   ]
  },
  {
   "cell_type": "code",
   "execution_count": 57,
   "metadata": {},
   "outputs": [],
   "source": [
    "job = driver.find_elements_by_xpath(\"//a[@class='title fw500 ellipsis']\")"
   ]
  },
  {
   "cell_type": "code",
   "execution_count": 58,
   "metadata": {},
   "outputs": [
    {
     "data": {
      "text/plain": [
       "['Only Fresher / Data Scientist / Data Analyst / Analytics - MNC Jobs',\n",
       " 'Data Scientist / Data Analyst',\n",
       " 'Data Scientist / Data Analyst / Business Analytics - MNC Jobs Freshers',\n",
       " 'Data Scientist',\n",
       " 'Data Scientist',\n",
       " 'Data Scientist - Machine Learning/ NLP',\n",
       " 'Junior Data Scientists & Engineers',\n",
       " 'Data Scientist',\n",
       " 'Ecosystem Data Scientist Manager_MNC',\n",
       " 'Data Scientist Intern',\n",
       " 'Data Scientist ( Solar Industry ) 2-5 Yrs @ Delhi- NCR',\n",
       " 'Developers, Data Scientists, Web Designers, Android Developers',\n",
       " 'Data Engineer / Quality Analyst / Healthcare Associate Analytics - MNC',\n",
       " 'Data Analyst- O2C(Order To Cash)',\n",
       " 'Data Research Analyst internships',\n",
       " 'Data Analyst (Power BI)',\n",
       " 'Junior Data Analyst',\n",
       " 'Hiring For GCP Data Engineer in Tata Consultancy Services - Pan India',\n",
       " 'Data Analyst- O2C (FMCG/CPG industry Preferred)- Night Shift',\n",
       " 'Data Analyst / Business Analytics / MIS Executive - Fresher Jobs- MNC']"
      ]
     },
     "execution_count": 58,
     "metadata": {},
     "output_type": "execute_result"
    }
   ],
   "source": [
    "job_ = []\n",
    "for i in job:\n",
    "    job_.append(i.text)\n",
    "    \n",
    "job_"
   ]
  },
  {
   "cell_type": "code",
   "execution_count": 64,
   "metadata": {},
   "outputs": [],
   "source": [
    "company = driver.find_elements_by_xpath(\"//a[@class='subTitle ellipsis fleft']\")"
   ]
  },
  {
   "cell_type": "code",
   "execution_count": 72,
   "metadata": {},
   "outputs": [
    {
     "data": {
      "text/plain": [
       "['GABA Consultancy services',\n",
       " 'CARS24',\n",
       " 'GABA Consultancy services',\n",
       " '2coms',\n",
       " 'Jubna',\n",
       " 'TalPro',\n",
       " 'PY Consultancy',\n",
       " 'Gauge Data Solutions Pvt Ltd',\n",
       " 'Gladwin Analytics Private Limited (OPC)',\n",
       " 'Salasar New Age Technologies',\n",
       " 'Reckon HR consulting',\n",
       " 'Cogmac Technologies',\n",
       " 'GABA Consultancy services',\n",
       " 'GENPACT India Private Limited',\n",
       " 'iHackers Inc',\n",
       " 'Akzo Nobel India Limited',\n",
       " 'SiCureMi Healthcare Technologies',\n",
       " 'Tata Consultancy Services Ltd.',\n",
       " 'GENPACT India Private Limited',\n",
       " 'GABA Consultancy services']"
      ]
     },
     "execution_count": 72,
     "metadata": {},
     "output_type": "execute_result"
    }
   ],
   "source": [
    "company_ = []\n",
    "for i in company:\n",
    "    company_.append(i.text)\n",
    "company_"
   ]
  },
  {
   "cell_type": "code",
   "execution_count": 73,
   "metadata": {},
   "outputs": [],
   "source": [
    "data = pd.DataFrame({})\n",
    "data['job_']=job_[0:11]\n",
    "data['company_']=company_[0:11]\n"
   ]
  },
  {
   "cell_type": "code",
   "execution_count": 74,
   "metadata": {},
   "outputs": [
    {
     "data": {
      "text/html": [
       "<div>\n",
       "<style scoped>\n",
       "    .dataframe tbody tr th:only-of-type {\n",
       "        vertical-align: middle;\n",
       "    }\n",
       "\n",
       "    .dataframe tbody tr th {\n",
       "        vertical-align: top;\n",
       "    }\n",
       "\n",
       "    .dataframe thead th {\n",
       "        text-align: right;\n",
       "    }\n",
       "</style>\n",
       "<table border=\"1\" class=\"dataframe\">\n",
       "  <thead>\n",
       "    <tr style=\"text-align: right;\">\n",
       "      <th></th>\n",
       "      <th>job_</th>\n",
       "      <th>company_</th>\n",
       "    </tr>\n",
       "  </thead>\n",
       "  <tbody>\n",
       "    <tr>\n",
       "      <th>0</th>\n",
       "      <td>Only Fresher / Data Scientist / Data Analyst /...</td>\n",
       "      <td>GABA Consultancy services</td>\n",
       "    </tr>\n",
       "    <tr>\n",
       "      <th>1</th>\n",
       "      <td>Data Scientist / Data Analyst</td>\n",
       "      <td>CARS24</td>\n",
       "    </tr>\n",
       "    <tr>\n",
       "      <th>2</th>\n",
       "      <td>Data Scientist / Data Analyst / Business Analy...</td>\n",
       "      <td>GABA Consultancy services</td>\n",
       "    </tr>\n",
       "    <tr>\n",
       "      <th>3</th>\n",
       "      <td>Data Scientist</td>\n",
       "      <td>2coms</td>\n",
       "    </tr>\n",
       "    <tr>\n",
       "      <th>4</th>\n",
       "      <td>Data Scientist</td>\n",
       "      <td>Jubna</td>\n",
       "    </tr>\n",
       "    <tr>\n",
       "      <th>5</th>\n",
       "      <td>Data Scientist - Machine Learning/ NLP</td>\n",
       "      <td>TalPro</td>\n",
       "    </tr>\n",
       "    <tr>\n",
       "      <th>6</th>\n",
       "      <td>Junior Data Scientists &amp; Engineers</td>\n",
       "      <td>PY Consultancy</td>\n",
       "    </tr>\n",
       "    <tr>\n",
       "      <th>7</th>\n",
       "      <td>Data Scientist</td>\n",
       "      <td>Gauge Data Solutions Pvt Ltd</td>\n",
       "    </tr>\n",
       "    <tr>\n",
       "      <th>8</th>\n",
       "      <td>Ecosystem Data Scientist Manager_MNC</td>\n",
       "      <td>Gladwin Analytics Private Limited (OPC)</td>\n",
       "    </tr>\n",
       "    <tr>\n",
       "      <th>9</th>\n",
       "      <td>Data Scientist Intern</td>\n",
       "      <td>Salasar New Age Technologies</td>\n",
       "    </tr>\n",
       "    <tr>\n",
       "      <th>10</th>\n",
       "      <td>Data Scientist ( Solar Industry ) 2-5 Yrs @ De...</td>\n",
       "      <td>Reckon HR consulting</td>\n",
       "    </tr>\n",
       "  </tbody>\n",
       "</table>\n",
       "</div>"
      ],
      "text/plain": [
       "                                                 job_  \\\n",
       "0   Only Fresher / Data Scientist / Data Analyst /...   \n",
       "1                       Data Scientist / Data Analyst   \n",
       "2   Data Scientist / Data Analyst / Business Analy...   \n",
       "3                                      Data Scientist   \n",
       "4                                      Data Scientist   \n",
       "5              Data Scientist - Machine Learning/ NLP   \n",
       "6                  Junior Data Scientists & Engineers   \n",
       "7                                      Data Scientist   \n",
       "8                Ecosystem Data Scientist Manager_MNC   \n",
       "9                               Data Scientist Intern   \n",
       "10  Data Scientist ( Solar Industry ) 2-5 Yrs @ De...   \n",
       "\n",
       "                                   company_  \n",
       "0                 GABA Consultancy services  \n",
       "1                                    CARS24  \n",
       "2                 GABA Consultancy services  \n",
       "3                                     2coms  \n",
       "4                                     Jubna  \n",
       "5                                    TalPro  \n",
       "6                            PY Consultancy  \n",
       "7              Gauge Data Solutions Pvt Ltd  \n",
       "8   Gladwin Analytics Private Limited (OPC)  \n",
       "9              Salasar New Age Technologies  \n",
       "10                     Reckon HR consulting  "
      ]
     },
     "execution_count": 74,
     "metadata": {},
     "output_type": "execute_result"
    }
   ],
   "source": [
    "data"
   ]
  },
  {
   "cell_type": "markdown",
   "metadata": {},
   "source": [
    "# question 4 "
   ]
  },
  {
   "cell_type": "code",
   "execution_count": 78,
   "metadata": {},
   "outputs": [],
   "source": [
    "url = 'https://www.glassdoor.co.in/Salaries/index.htm'"
   ]
  },
  {
   "cell_type": "code",
   "execution_count": 79,
   "metadata": {},
   "outputs": [],
   "source": [
    "driver.get(url)"
   ]
  },
  {
   "cell_type": "code",
   "execution_count": 77,
   "metadata": {},
   "outputs": [],
   "source": [
    "# not able to login into browser "
   ]
  },
  {
   "cell_type": "code",
   "execution_count": 80,
   "metadata": {},
   "outputs": [],
   "source": [
    "job_search = driver.find_element_by_xpath(\"//input[@class='keyword']\")"
   ]
  },
  {
   "cell_type": "code",
   "execution_count": 81,
   "metadata": {},
   "outputs": [
    {
     "data": {
      "text/plain": [
       "<selenium.webdriver.remote.webelement.WebElement (session=\"f27e87b0d97fcfa33aed0ba93f450906\", element=\"2f75b48c-35d7-4f12-b122-ac412a8a9df6\")>"
      ]
     },
     "execution_count": 81,
     "metadata": {},
     "output_type": "execute_result"
    }
   ],
   "source": [
    "job_search"
   ]
  },
  {
   "cell_type": "code",
   "execution_count": 82,
   "metadata": {},
   "outputs": [],
   "source": [
    "job_search.send_keys(\"data scientist\")"
   ]
  },
  {
   "cell_type": "code",
   "execution_count": 86,
   "metadata": {},
   "outputs": [],
   "source": [
    "location = driver.find_element_by_id(\"LocationSearch\")"
   ]
  },
  {
   "cell_type": "code",
   "execution_count": 87,
   "metadata": {},
   "outputs": [],
   "source": [
    "location.send_keys(\"noida\")"
   ]
  },
  {
   "cell_type": "code",
   "execution_count": 88,
   "metadata": {},
   "outputs": [],
   "source": [
    "btn = driver.find_element_by_class_name(\"gd-btn-mkt\")"
   ]
  },
  {
   "cell_type": "code",
   "execution_count": 89,
   "metadata": {},
   "outputs": [],
   "source": [
    "btn.click()"
   ]
  },
  {
   "cell_type": "code",
   "execution_count": 90,
   "metadata": {},
   "outputs": [],
   "source": [
    "# site not allowing to login as controled automatically with chrome \n"
   ]
  },
  {
   "cell_type": "markdown",
   "metadata": {},
   "source": [
    "# question 6 "
   ]
  },
  {
   "cell_type": "code",
   "execution_count": 93,
   "metadata": {},
   "outputs": [],
   "source": [
    "url = \"https://www.flipkart.com/\""
   ]
  },
  {
   "cell_type": "code",
   "execution_count": 94,
   "metadata": {},
   "outputs": [],
   "source": [
    "driver.get(url)"
   ]
  },
  {
   "cell_type": "code",
   "execution_count": 95,
   "metadata": {},
   "outputs": [],
   "source": [
    "search_product = driver.find_element_by_class_name(\"_3704LK\")"
   ]
  },
  {
   "cell_type": "code",
   "execution_count": 96,
   "metadata": {},
   "outputs": [
    {
     "data": {
      "text/plain": [
       "<selenium.webdriver.remote.webelement.WebElement (session=\"f27e87b0d97fcfa33aed0ba93f450906\", element=\"fa9bb706-7ecd-41f6-b1f5-bb177493c684\")>"
      ]
     },
     "execution_count": 96,
     "metadata": {},
     "output_type": "execute_result"
    }
   ],
   "source": [
    "search_product"
   ]
  },
  {
   "cell_type": "code",
   "execution_count": 98,
   "metadata": {},
   "outputs": [],
   "source": [
    "search_product.send_keys(\"sunglass\")"
   ]
  },
  {
   "cell_type": "code",
   "execution_count": 99,
   "metadata": {},
   "outputs": [],
   "source": [
    "btn = driver.find_element_by_class_name(\"L0Z3Pu\")"
   ]
  },
  {
   "cell_type": "code",
   "execution_count": 100,
   "metadata": {},
   "outputs": [
    {
     "data": {
      "text/plain": [
       "<selenium.webdriver.remote.webelement.WebElement (session=\"f27e87b0d97fcfa33aed0ba93f450906\", element=\"83623924-9462-458c-bc82-b41b6da05601\")>"
      ]
     },
     "execution_count": 100,
     "metadata": {},
     "output_type": "execute_result"
    }
   ],
   "source": [
    "btn"
   ]
  },
  {
   "cell_type": "code",
   "execution_count": 101,
   "metadata": {},
   "outputs": [],
   "source": [
    "btn.click()"
   ]
  },
  {
   "cell_type": "code",
   "execution_count": 103,
   "metadata": {},
   "outputs": [],
   "source": [
    "brand = driver.find_elements_by_xpath(\"//a[@class='IRpwTa']\")"
   ]
  },
  {
   "cell_type": "code",
   "execution_count": 111,
   "metadata": {},
   "outputs": [
    {
     "data": {
      "text/plain": [
       "['Polarized, UV Protection Round Sunglasses (53)',\n",
       " 'UV Protection Oval Sunglasses (Free Size)',\n",
       " 'UV Protection Round Sunglasses (54)',\n",
       " 'UV Protection, Polarized, Mirrored Rectangular Sunglass...',\n",
       " 'UV Protection Aviator Sunglasses (54)',\n",
       " 'Mirrored, UV Protection Wayfarer Sunglasses (Free Size)',\n",
       " 'UV Protection Aviator Sunglasses (54)',\n",
       " 'UV Protection Rectangular Sunglasses (58)',\n",
       " 'UV Protection Round Sunglasses (54)',\n",
       " 'Gradient, UV Protection Wayfarer Sunglasses (Free Size)',\n",
       " 'UV Protection, Gradient Wayfarer, Clubmaster Sunglasses...',\n",
       " 'UV Protection Wayfarer Sunglasses (Free Size)',\n",
       " 'UV Protection, Gradient Rectangular Sunglasses (Free Si...',\n",
       " 'UV Protection Wayfarer Sunglasses (Free Size)',\n",
       " 'UV Protection Wayfarer Sunglasses (53)',\n",
       " 'UV Protection Round Sunglasses (Free Size)',\n",
       " 'UV Protection, Polarized, Mirrored Rectangular Sunglass...',\n",
       " 'UV Protection Retro Square Sunglasses (Free Size)',\n",
       " 'UV Protection, Gradient Oval Sunglasses (58)',\n",
       " 'UV Protection Retro Square Sunglasses (Free Size)',\n",
       " 'UV Protection, Polarized, Mirrored Wayfarer Sunglasses ...',\n",
       " 'UV Protection Aviator Sunglasses (54)',\n",
       " 'UV Protection, Gradient Round, Cat-eye Sunglasses (60)',\n",
       " 'UV Protection, Mirrored Aviator Sunglasses (58)',\n",
       " 'UV Protection Aviator Sunglasses (Free Size)',\n",
       " 'UV Protection Aviator, Wayfarer Sunglasses (Free Size)',\n",
       " 'UV Protection, Gradient Butterfly, Retro Square Sunglas...',\n",
       " 'UV Protection Butterfly Sunglasses (65)',\n",
       " 'Others Round Sunglasses (52)',\n",
       " 'Mirrored, UV Protection Wayfarer Sunglasses (Free Size)',\n",
       " 'UV Protection, Night Vision, Riding Glasses, Polarized ...',\n",
       " 'UV Protection Wayfarer Sunglasses (Free Size)',\n",
       " 'Mirrored Aviator Sunglasses (55)',\n",
       " 'UV Protection, Polarized, Mirrored Wayfarer Sunglasses ...',\n",
       " 'UV Protection, Gradient Wayfarer Sunglasses (57)',\n",
       " 'UV Protection, Gradient, Mirrored, Riding Glasses Aviat...',\n",
       " 'UV Protection, Gradient Round Sunglasses (Free Size)',\n",
       " 'Mirrored Round Sunglasses (53)',\n",
       " 'UV Protection Cat-eye Sunglasses (60)']"
      ]
     },
     "execution_count": 111,
     "metadata": {},
     "output_type": "execute_result"
    }
   ],
   "source": [
    "brand_ = []\n",
    "for i in brand:\n",
    "    brand_.append(i.text)\n",
    "brand_\n",
    "\n",
    "\n"
   ]
  },
  {
   "cell_type": "code",
   "execution_count": 106,
   "metadata": {},
   "outputs": [],
   "source": [
    "price = driver.find_elements_by_class_name(\"_30jeq3\")"
   ]
  },
  {
   "cell_type": "code",
   "execution_count": 107,
   "metadata": {},
   "outputs": [
    {
     "data": {
      "text/plain": [
       "['₹699',\n",
       " '₹449',\n",
       " '₹329',\n",
       " '₹198',\n",
       " '₹237',\n",
       " '₹284',\n",
       " '₹237',\n",
       " '₹498',\n",
       " '₹474',\n",
       " '₹213',\n",
       " '₹509',\n",
       " '₹445',\n",
       " '₹758',\n",
       " '₹404',\n",
       " '₹689',\n",
       " '₹329',\n",
       " '₹331',\n",
       " '₹215',\n",
       " '₹379',\n",
       " '₹495',\n",
       " '₹499',\n",
       " '₹265',\n",
       " '₹237',\n",
       " '₹498',\n",
       " '₹186',\n",
       " '₹546',\n",
       " '₹229',\n",
       " '₹498',\n",
       " '₹449',\n",
       " '₹179',\n",
       " '₹284',\n",
       " '₹375',\n",
       " '₹246',\n",
       " '₹379',\n",
       " '₹284',\n",
       " '₹625',\n",
       " '₹209',\n",
       " '₹449',\n",
       " '₹355',\n",
       " '₹403',\n",
       " '₹403',\n",
       " '₹474',\n",
       " '₹758',\n",
       " '₹699',\n",
       " '₹445']"
      ]
     },
     "execution_count": 107,
     "metadata": {},
     "output_type": "execute_result"
    }
   ],
   "source": [
    "price_ = []\n",
    "for i in price:\n",
    "    price_.append(i.text)\n",
    "price_"
   ]
  },
  {
   "cell_type": "code",
   "execution_count": 108,
   "metadata": {},
   "outputs": [],
   "source": [
    "discount = driver.find_elements_by_class_name(\"_3Ay6Sb\")"
   ]
  },
  {
   "cell_type": "code",
   "execution_count": 109,
   "metadata": {},
   "outputs": [
    {
     "data": {
      "text/plain": [
       "['65% off',\n",
       " '70% off',\n",
       " '86% off',\n",
       " '88% off',\n",
       " '85% off',\n",
       " '89% off',\n",
       " '85% off',\n",
       " '70% off',\n",
       " '68% off',\n",
       " '80% off',\n",
       " '36% off',\n",
       " '70% off',\n",
       " '15% off',\n",
       " '79% off',\n",
       " '23% off',\n",
       " '72% off',\n",
       " '80% off',\n",
       " '78% off',\n",
       " '81% off',\n",
       " '67% off',\n",
       " '77% off',\n",
       " '73% off',\n",
       " '85% off',\n",
       " '70% off',\n",
       " '78% off',\n",
       " '31% off',\n",
       " '80% off',\n",
       " '67% off',\n",
       " '82% off',\n",
       " '69% off',\n",
       " '89% off',\n",
       " '77% off',\n",
       " '83% off',\n",
       " '74% off',\n",
       " '71% off',\n",
       " '70% off',\n",
       " '79% off',\n",
       " '77% off',\n",
       " '85% off',\n",
       " '72% off',\n",
       " '72% off',\n",
       " '68% off',\n",
       " '15% off',\n",
       " '65% off',\n",
       " '70% off']"
      ]
     },
     "execution_count": 109,
     "metadata": {},
     "output_type": "execute_result"
    }
   ],
   "source": [
    "discount_ = []\n",
    "for i in discount:\n",
    "    discount_.append(i.text)\n",
    "discount_"
   ]
  },
  {
   "cell_type": "code",
   "execution_count": 142,
   "metadata": {},
   "outputs": [],
   "source": [
    "\n",
    "\n",
    "\n",
    "fp1 = pd.DataFrame({})\n",
    "fp1['brand_']=brand_[0:39]\n",
    "fp1['price_']=price_[0:39]\n",
    "fp1['discount_']=discount_[0:39]"
   ]
  },
  {
   "cell_type": "code",
   "execution_count": 140,
   "metadata": {},
   "outputs": [
    {
     "data": {
      "text/html": [
       "<div>\n",
       "<style scoped>\n",
       "    .dataframe tbody tr th:only-of-type {\n",
       "        vertical-align: middle;\n",
       "    }\n",
       "\n",
       "    .dataframe tbody tr th {\n",
       "        vertical-align: top;\n",
       "    }\n",
       "\n",
       "    .dataframe thead th {\n",
       "        text-align: right;\n",
       "    }\n",
       "</style>\n",
       "<table border=\"1\" class=\"dataframe\">\n",
       "  <thead>\n",
       "    <tr style=\"text-align: right;\">\n",
       "      <th></th>\n",
       "      <th>brand_</th>\n",
       "      <th>price_</th>\n",
       "      <th>discount_</th>\n",
       "    </tr>\n",
       "  </thead>\n",
       "  <tbody>\n",
       "    <tr>\n",
       "      <th>0</th>\n",
       "      <td>Polarized, UV Protection Round Sunglasses (53)</td>\n",
       "      <td>₹699</td>\n",
       "      <td>65% off</td>\n",
       "    </tr>\n",
       "    <tr>\n",
       "      <th>1</th>\n",
       "      <td>UV Protection Oval Sunglasses (Free Size)</td>\n",
       "      <td>₹449</td>\n",
       "      <td>70% off</td>\n",
       "    </tr>\n",
       "    <tr>\n",
       "      <th>2</th>\n",
       "      <td>UV Protection Round Sunglasses (54)</td>\n",
       "      <td>₹329</td>\n",
       "      <td>86% off</td>\n",
       "    </tr>\n",
       "    <tr>\n",
       "      <th>3</th>\n",
       "      <td>UV Protection, Polarized, Mirrored Rectangular...</td>\n",
       "      <td>₹198</td>\n",
       "      <td>88% off</td>\n",
       "    </tr>\n",
       "    <tr>\n",
       "      <th>4</th>\n",
       "      <td>UV Protection Aviator Sunglasses (54)</td>\n",
       "      <td>₹237</td>\n",
       "      <td>85% off</td>\n",
       "    </tr>\n",
       "    <tr>\n",
       "      <th>5</th>\n",
       "      <td>Mirrored, UV Protection Wayfarer Sunglasses (F...</td>\n",
       "      <td>₹284</td>\n",
       "      <td>89% off</td>\n",
       "    </tr>\n",
       "    <tr>\n",
       "      <th>6</th>\n",
       "      <td>UV Protection Aviator Sunglasses (54)</td>\n",
       "      <td>₹237</td>\n",
       "      <td>85% off</td>\n",
       "    </tr>\n",
       "    <tr>\n",
       "      <th>7</th>\n",
       "      <td>UV Protection Rectangular Sunglasses (58)</td>\n",
       "      <td>₹498</td>\n",
       "      <td>70% off</td>\n",
       "    </tr>\n",
       "    <tr>\n",
       "      <th>8</th>\n",
       "      <td>UV Protection Round Sunglasses (54)</td>\n",
       "      <td>₹474</td>\n",
       "      <td>68% off</td>\n",
       "    </tr>\n",
       "    <tr>\n",
       "      <th>9</th>\n",
       "      <td>Gradient, UV Protection Wayfarer Sunglasses (F...</td>\n",
       "      <td>₹213</td>\n",
       "      <td>80% off</td>\n",
       "    </tr>\n",
       "    <tr>\n",
       "      <th>10</th>\n",
       "      <td>UV Protection, Gradient Wayfarer, Clubmaster S...</td>\n",
       "      <td>₹509</td>\n",
       "      <td>36% off</td>\n",
       "    </tr>\n",
       "    <tr>\n",
       "      <th>11</th>\n",
       "      <td>UV Protection Wayfarer Sunglasses (Free Size)</td>\n",
       "      <td>₹445</td>\n",
       "      <td>70% off</td>\n",
       "    </tr>\n",
       "    <tr>\n",
       "      <th>12</th>\n",
       "      <td>UV Protection, Gradient Rectangular Sunglasses...</td>\n",
       "      <td>₹758</td>\n",
       "      <td>15% off</td>\n",
       "    </tr>\n",
       "    <tr>\n",
       "      <th>13</th>\n",
       "      <td>UV Protection Wayfarer Sunglasses (Free Size)</td>\n",
       "      <td>₹404</td>\n",
       "      <td>79% off</td>\n",
       "    </tr>\n",
       "    <tr>\n",
       "      <th>14</th>\n",
       "      <td>UV Protection Wayfarer Sunglasses (53)</td>\n",
       "      <td>₹689</td>\n",
       "      <td>23% off</td>\n",
       "    </tr>\n",
       "    <tr>\n",
       "      <th>15</th>\n",
       "      <td>UV Protection Round Sunglasses (Free Size)</td>\n",
       "      <td>₹329</td>\n",
       "      <td>72% off</td>\n",
       "    </tr>\n",
       "    <tr>\n",
       "      <th>16</th>\n",
       "      <td>UV Protection, Polarized, Mirrored Rectangular...</td>\n",
       "      <td>₹331</td>\n",
       "      <td>80% off</td>\n",
       "    </tr>\n",
       "    <tr>\n",
       "      <th>17</th>\n",
       "      <td>UV Protection Retro Square Sunglasses (Free Size)</td>\n",
       "      <td>₹215</td>\n",
       "      <td>78% off</td>\n",
       "    </tr>\n",
       "    <tr>\n",
       "      <th>18</th>\n",
       "      <td>UV Protection, Gradient Oval Sunglasses (58)</td>\n",
       "      <td>₹379</td>\n",
       "      <td>81% off</td>\n",
       "    </tr>\n",
       "    <tr>\n",
       "      <th>19</th>\n",
       "      <td>UV Protection Retro Square Sunglasses (Free Size)</td>\n",
       "      <td>₹495</td>\n",
       "      <td>67% off</td>\n",
       "    </tr>\n",
       "    <tr>\n",
       "      <th>20</th>\n",
       "      <td>UV Protection, Polarized, Mirrored Wayfarer Su...</td>\n",
       "      <td>₹499</td>\n",
       "      <td>77% off</td>\n",
       "    </tr>\n",
       "    <tr>\n",
       "      <th>21</th>\n",
       "      <td>UV Protection Aviator Sunglasses (54)</td>\n",
       "      <td>₹265</td>\n",
       "      <td>73% off</td>\n",
       "    </tr>\n",
       "    <tr>\n",
       "      <th>22</th>\n",
       "      <td>UV Protection, Gradient Round, Cat-eye Sunglas...</td>\n",
       "      <td>₹237</td>\n",
       "      <td>85% off</td>\n",
       "    </tr>\n",
       "    <tr>\n",
       "      <th>23</th>\n",
       "      <td>UV Protection, Mirrored Aviator Sunglasses (58)</td>\n",
       "      <td>₹498</td>\n",
       "      <td>70% off</td>\n",
       "    </tr>\n",
       "    <tr>\n",
       "      <th>24</th>\n",
       "      <td>UV Protection Aviator Sunglasses (Free Size)</td>\n",
       "      <td>₹186</td>\n",
       "      <td>78% off</td>\n",
       "    </tr>\n",
       "    <tr>\n",
       "      <th>25</th>\n",
       "      <td>UV Protection Aviator, Wayfarer Sunglasses (Fr...</td>\n",
       "      <td>₹546</td>\n",
       "      <td>31% off</td>\n",
       "    </tr>\n",
       "    <tr>\n",
       "      <th>26</th>\n",
       "      <td>UV Protection, Gradient Butterfly, Retro Squar...</td>\n",
       "      <td>₹229</td>\n",
       "      <td>80% off</td>\n",
       "    </tr>\n",
       "    <tr>\n",
       "      <th>27</th>\n",
       "      <td>UV Protection Butterfly Sunglasses (65)</td>\n",
       "      <td>₹498</td>\n",
       "      <td>67% off</td>\n",
       "    </tr>\n",
       "    <tr>\n",
       "      <th>28</th>\n",
       "      <td>Others Round Sunglasses (52)</td>\n",
       "      <td>₹449</td>\n",
       "      <td>82% off</td>\n",
       "    </tr>\n",
       "    <tr>\n",
       "      <th>29</th>\n",
       "      <td>Mirrored, UV Protection Wayfarer Sunglasses (F...</td>\n",
       "      <td>₹179</td>\n",
       "      <td>69% off</td>\n",
       "    </tr>\n",
       "    <tr>\n",
       "      <th>30</th>\n",
       "      <td>UV Protection, Night Vision, Riding Glasses, P...</td>\n",
       "      <td>₹284</td>\n",
       "      <td>89% off</td>\n",
       "    </tr>\n",
       "    <tr>\n",
       "      <th>31</th>\n",
       "      <td>UV Protection Wayfarer Sunglasses (Free Size)</td>\n",
       "      <td>₹375</td>\n",
       "      <td>77% off</td>\n",
       "    </tr>\n",
       "    <tr>\n",
       "      <th>32</th>\n",
       "      <td>Mirrored Aviator Sunglasses (55)</td>\n",
       "      <td>₹246</td>\n",
       "      <td>83% off</td>\n",
       "    </tr>\n",
       "    <tr>\n",
       "      <th>33</th>\n",
       "      <td>UV Protection, Polarized, Mirrored Wayfarer Su...</td>\n",
       "      <td>₹379</td>\n",
       "      <td>74% off</td>\n",
       "    </tr>\n",
       "    <tr>\n",
       "      <th>34</th>\n",
       "      <td>UV Protection, Gradient Wayfarer Sunglasses (57)</td>\n",
       "      <td>₹284</td>\n",
       "      <td>71% off</td>\n",
       "    </tr>\n",
       "    <tr>\n",
       "      <th>35</th>\n",
       "      <td>UV Protection, Gradient, Mirrored, Riding Glas...</td>\n",
       "      <td>₹625</td>\n",
       "      <td>70% off</td>\n",
       "    </tr>\n",
       "    <tr>\n",
       "      <th>36</th>\n",
       "      <td>UV Protection, Gradient Round Sunglasses (Free...</td>\n",
       "      <td>₹209</td>\n",
       "      <td>79% off</td>\n",
       "    </tr>\n",
       "    <tr>\n",
       "      <th>37</th>\n",
       "      <td>Mirrored Round Sunglasses (53)</td>\n",
       "      <td>₹449</td>\n",
       "      <td>77% off</td>\n",
       "    </tr>\n",
       "    <tr>\n",
       "      <th>38</th>\n",
       "      <td>UV Protection Cat-eye Sunglasses (60)</td>\n",
       "      <td>₹355</td>\n",
       "      <td>85% off</td>\n",
       "    </tr>\n",
       "  </tbody>\n",
       "</table>\n",
       "</div>"
      ],
      "text/plain": [
       "                                               brand_ price_ discount_\n",
       "0      Polarized, UV Protection Round Sunglasses (53)   ₹699   65% off\n",
       "1           UV Protection Oval Sunglasses (Free Size)   ₹449   70% off\n",
       "2                 UV Protection Round Sunglasses (54)   ₹329   86% off\n",
       "3   UV Protection, Polarized, Mirrored Rectangular...   ₹198   88% off\n",
       "4               UV Protection Aviator Sunglasses (54)   ₹237   85% off\n",
       "5   Mirrored, UV Protection Wayfarer Sunglasses (F...   ₹284   89% off\n",
       "6               UV Protection Aviator Sunglasses (54)   ₹237   85% off\n",
       "7           UV Protection Rectangular Sunglasses (58)   ₹498   70% off\n",
       "8                 UV Protection Round Sunglasses (54)   ₹474   68% off\n",
       "9   Gradient, UV Protection Wayfarer Sunglasses (F...   ₹213   80% off\n",
       "10  UV Protection, Gradient Wayfarer, Clubmaster S...   ₹509   36% off\n",
       "11      UV Protection Wayfarer Sunglasses (Free Size)   ₹445   70% off\n",
       "12  UV Protection, Gradient Rectangular Sunglasses...   ₹758   15% off\n",
       "13      UV Protection Wayfarer Sunglasses (Free Size)   ₹404   79% off\n",
       "14             UV Protection Wayfarer Sunglasses (53)   ₹689   23% off\n",
       "15         UV Protection Round Sunglasses (Free Size)   ₹329   72% off\n",
       "16  UV Protection, Polarized, Mirrored Rectangular...   ₹331   80% off\n",
       "17  UV Protection Retro Square Sunglasses (Free Size)   ₹215   78% off\n",
       "18       UV Protection, Gradient Oval Sunglasses (58)   ₹379   81% off\n",
       "19  UV Protection Retro Square Sunglasses (Free Size)   ₹495   67% off\n",
       "20  UV Protection, Polarized, Mirrored Wayfarer Su...   ₹499   77% off\n",
       "21              UV Protection Aviator Sunglasses (54)   ₹265   73% off\n",
       "22  UV Protection, Gradient Round, Cat-eye Sunglas...   ₹237   85% off\n",
       "23    UV Protection, Mirrored Aviator Sunglasses (58)   ₹498   70% off\n",
       "24       UV Protection Aviator Sunglasses (Free Size)   ₹186   78% off\n",
       "25  UV Protection Aviator, Wayfarer Sunglasses (Fr...   ₹546   31% off\n",
       "26  UV Protection, Gradient Butterfly, Retro Squar...   ₹229   80% off\n",
       "27            UV Protection Butterfly Sunglasses (65)   ₹498   67% off\n",
       "28                       Others Round Sunglasses (52)   ₹449   82% off\n",
       "29  Mirrored, UV Protection Wayfarer Sunglasses (F...   ₹179   69% off\n",
       "30  UV Protection, Night Vision, Riding Glasses, P...   ₹284   89% off\n",
       "31      UV Protection Wayfarer Sunglasses (Free Size)   ₹375   77% off\n",
       "32                   Mirrored Aviator Sunglasses (55)   ₹246   83% off\n",
       "33  UV Protection, Polarized, Mirrored Wayfarer Su...   ₹379   74% off\n",
       "34   UV Protection, Gradient Wayfarer Sunglasses (57)   ₹284   71% off\n",
       "35  UV Protection, Gradient, Mirrored, Riding Glas...   ₹625   70% off\n",
       "36  UV Protection, Gradient Round Sunglasses (Free...   ₹209   79% off\n",
       "37                     Mirrored Round Sunglasses (53)   ₹449   77% off\n",
       "38              UV Protection Cat-eye Sunglasses (60)   ₹355   85% off"
      ]
     },
     "execution_count": 140,
     "metadata": {},
     "output_type": "execute_result"
    }
   ],
   "source": [
    "fp1"
   ]
  },
  {
   "cell_type": "code",
   "execution_count": 121,
   "metadata": {},
   "outputs": [],
   "source": [
    "btn2 = driver.find_element_by_class_name(\"ge-49M\")"
   ]
  },
  {
   "cell_type": "code",
   "execution_count": 122,
   "metadata": {},
   "outputs": [
    {
     "data": {
      "text/plain": [
       "<selenium.webdriver.remote.webelement.WebElement (session=\"f27e87b0d97fcfa33aed0ba93f450906\", element=\"cb4fe7a8-4f2d-466b-83ba-b5a03d4809bb\")>"
      ]
     },
     "execution_count": 122,
     "metadata": {},
     "output_type": "execute_result"
    }
   ],
   "source": [
    "btn2"
   ]
  },
  {
   "cell_type": "code",
   "execution_count": 123,
   "metadata": {},
   "outputs": [],
   "source": [
    "btn2.click()"
   ]
  },
  {
   "cell_type": "code",
   "execution_count": 127,
   "metadata": {},
   "outputs": [],
   "source": [
    "brand_ = driver.find_elements_by_class_name(\"IRpwTa\")"
   ]
  },
  {
   "cell_type": "code",
   "execution_count": 149,
   "metadata": {},
   "outputs": [
    {
     "data": {
      "text/plain": [
       "['UV Protection Aviator Sunglasses (57)',\n",
       " 'Polarized Retro Square Sunglasses (58)',\n",
       " 'UV Protection Round Sunglasses (54)',\n",
       " 'UV Protection, Polarized, Mirrored Rectangular Sunglass...',\n",
       " 'UV Protection Aviator Sunglasses (54)',\n",
       " 'Mirrored, UV Protection Wayfarer Sunglasses (Free Size)',\n",
       " 'UV Protection Aviator Sunglasses (54)',\n",
       " 'UV Protection Retro Square Sunglasses (58)',\n",
       " 'UV Protection Rectangular Sunglasses (58)',\n",
       " 'UV Protection Round Sunglasses (54)',\n",
       " 'Gradient, UV Protection Wayfarer Sunglasses (Free Size)',\n",
       " 'Polarized, UV Protection Round Sunglasses (49)',\n",
       " 'UV Protection Wayfarer Sunglasses (Free Size)',\n",
       " 'UV Protection, Gradient Rectangular Sunglasses (Free Si...',\n",
       " 'UV Protection Wayfarer Sunglasses (Free Size)',\n",
       " 'UV Protection, Gradient Wayfarer, Clubmaster Sunglasses...',\n",
       " 'UV Protection Round Sunglasses (Free Size)',\n",
       " 'UV Protection, Polarized, Mirrored Rectangular Sunglass...',\n",
       " 'UV Protection Retro Square Sunglasses (Free Size)',\n",
       " 'UV Protection Oval Sunglasses (Free Size)',\n",
       " 'UV Protection Retro Square Sunglasses (Free Size)',\n",
       " 'UV Protection, Polarized, Mirrored Wayfarer Sunglasses ...',\n",
       " 'UV Protection Aviator Sunglasses (54)',\n",
       " 'Polarized, UV Protection Aviator Sunglasses (58)',\n",
       " 'UV Protection, Mirrored Aviator Sunglasses (58)',\n",
       " 'UV Protection Aviator Sunglasses (Free Size)',\n",
       " 'UV Protection Aviator, Wayfarer Sunglasses (Free Size)',\n",
       " 'UV Protection Retro Square Sunglasses (88)',\n",
       " 'UV Protection Butterfly Sunglasses (65)',\n",
       " 'Others Round Sunglasses (52)',\n",
       " 'Mirrored, UV Protection Wayfarer Sunglasses (Free Size)',\n",
       " 'UV Protection, Gradient Over-sized Sunglasses (59)',\n",
       " 'UV Protection Wayfarer Sunglasses (Free Size)',\n",
       " 'Mirrored Aviator Sunglasses (55)',\n",
       " 'UV Protection, Polarized, Mirrored Wayfarer Sunglasses ...',\n",
       " 'UV Protection Wayfarer Sunglasses (55)',\n",
       " 'UV Protection, Gradient, Mirrored, Riding Glasses Aviat...',\n",
       " 'UV Protection, Gradient Round Sunglasses (Free Size)',\n",
       " 'Mirrored Round Sunglasses (53)',\n",
       " 'UV Protection Over-sized Sunglasses (65)']"
      ]
     },
     "execution_count": 149,
     "metadata": {},
     "output_type": "execute_result"
    }
   ],
   "source": [
    "product2_= []\n",
    "for i in product2:\n",
    "    product2_.append(i.text)\n",
    "    \n",
    "product2_"
   ]
  },
  {
   "cell_type": "code",
   "execution_count": 131,
   "metadata": {},
   "outputs": [],
   "source": [
    "price2 = driver.find_elements_by_class_name(\"_30jeq3\")"
   ]
  },
  {
   "cell_type": "code",
   "execution_count": 132,
   "metadata": {},
   "outputs": [],
   "source": [
    "price2_ = []\n",
    "for i in price2:\n",
    "    price2_.append(i.text)"
   ]
  },
  {
   "cell_type": "code",
   "execution_count": 133,
   "metadata": {},
   "outputs": [
    {
     "data": {
      "text/plain": [
       "['₹284',\n",
       " '₹854',\n",
       " '₹329',\n",
       " '₹198',\n",
       " '₹237',\n",
       " '₹284',\n",
       " '₹237',\n",
       " '₹474',\n",
       " '₹474',\n",
       " '₹213',\n",
       " '₹509',\n",
       " '₹664',\n",
       " '₹758',\n",
       " '₹404',\n",
       " '₹689',\n",
       " '₹525',\n",
       " '₹331',\n",
       " '₹215',\n",
       " '₹379',\n",
       " '₹449',\n",
       " '₹499',\n",
       " '₹265',\n",
       " '₹237',\n",
       " '₹799',\n",
       " '₹186',\n",
       " '₹546',\n",
       " '₹229',\n",
       " '₹569',\n",
       " '₹449',\n",
       " '₹179',\n",
       " '₹284',\n",
       " '₹664',\n",
       " '₹246',\n",
       " '₹379',\n",
       " '₹284',\n",
       " '₹248',\n",
       " '₹209',\n",
       " '₹449',\n",
       " '₹355',\n",
       " '₹664',\n",
       " '₹403',\n",
       " '₹474',\n",
       " '₹758',\n",
       " '₹699',\n",
       " '₹445']"
      ]
     },
     "execution_count": 133,
     "metadata": {},
     "output_type": "execute_result"
    }
   ],
   "source": [
    "price2_"
   ]
  },
  {
   "cell_type": "code",
   "execution_count": 134,
   "metadata": {},
   "outputs": [],
   "source": [
    "disc2 = driver.find_elements_by_class_name(\"_3Ay6Sb\")"
   ]
  },
  {
   "cell_type": "code",
   "execution_count": 135,
   "metadata": {},
   "outputs": [
    {
     "data": {
      "text/plain": [
       "['85% off',\n",
       " '57% off',\n",
       " '86% off',\n",
       " '88% off',\n",
       " '85% off',\n",
       " '89% off',\n",
       " '85% off',\n",
       " '68% off',\n",
       " '68% off',\n",
       " '80% off',\n",
       " '36% off',\n",
       " '66% off',\n",
       " '15% off',\n",
       " '79% off',\n",
       " '23% off',\n",
       " '65% off',\n",
       " '80% off',\n",
       " '78% off',\n",
       " '81% off',\n",
       " '70% off',\n",
       " '77% off',\n",
       " '73% off',\n",
       " '85% off',\n",
       " '60% off',\n",
       " '78% off',\n",
       " '31% off',\n",
       " '80% off',\n",
       " '71% off',\n",
       " '82% off',\n",
       " '69% off',\n",
       " '89% off',\n",
       " '66% off',\n",
       " '83% off',\n",
       " '74% off',\n",
       " '71% off',\n",
       " '80% off',\n",
       " '79% off',\n",
       " '77% off',\n",
       " '85% off',\n",
       " '55% off',\n",
       " '72% off',\n",
       " '68% off',\n",
       " '15% off',\n",
       " '65% off',\n",
       " '70% off']"
      ]
     },
     "execution_count": 135,
     "metadata": {},
     "output_type": "execute_result"
    }
   ],
   "source": [
    "disc2_= []\n",
    "for i in disc2:\n",
    "    disc2_.append(i.text)\n",
    "    \n",
    "disc2_"
   ]
  },
  {
   "cell_type": "code",
   "execution_count": 143,
   "metadata": {},
   "outputs": [],
   "source": [
    "\n",
    "\n",
    "\n",
    "fp2 = pd.DataFrame({})\n",
    "fp2['product2_']=product2_[0:39]\n",
    "fp2['price2_']=price2_[0:39]\n",
    "fp2['disc2_']=disc2_[0:39]"
   ]
  },
  {
   "cell_type": "code",
   "execution_count": 144,
   "metadata": {},
   "outputs": [
    {
     "data": {
      "text/html": [
       "<div>\n",
       "<style scoped>\n",
       "    .dataframe tbody tr th:only-of-type {\n",
       "        vertical-align: middle;\n",
       "    }\n",
       "\n",
       "    .dataframe tbody tr th {\n",
       "        vertical-align: top;\n",
       "    }\n",
       "\n",
       "    .dataframe thead th {\n",
       "        text-align: right;\n",
       "    }\n",
       "</style>\n",
       "<table border=\"1\" class=\"dataframe\">\n",
       "  <thead>\n",
       "    <tr style=\"text-align: right;\">\n",
       "      <th></th>\n",
       "      <th>product2_</th>\n",
       "      <th>price2_</th>\n",
       "      <th>disc2_</th>\n",
       "    </tr>\n",
       "  </thead>\n",
       "  <tbody>\n",
       "    <tr>\n",
       "      <th>0</th>\n",
       "      <td>UV Protection Aviator Sunglasses (57)</td>\n",
       "      <td>₹284</td>\n",
       "      <td>85% off</td>\n",
       "    </tr>\n",
       "    <tr>\n",
       "      <th>1</th>\n",
       "      <td>Polarized Retro Square Sunglasses (58)</td>\n",
       "      <td>₹854</td>\n",
       "      <td>57% off</td>\n",
       "    </tr>\n",
       "    <tr>\n",
       "      <th>2</th>\n",
       "      <td>UV Protection Round Sunglasses (54)</td>\n",
       "      <td>₹329</td>\n",
       "      <td>86% off</td>\n",
       "    </tr>\n",
       "    <tr>\n",
       "      <th>3</th>\n",
       "      <td>UV Protection, Polarized, Mirrored Rectangular...</td>\n",
       "      <td>₹198</td>\n",
       "      <td>88% off</td>\n",
       "    </tr>\n",
       "    <tr>\n",
       "      <th>4</th>\n",
       "      <td>UV Protection Aviator Sunglasses (54)</td>\n",
       "      <td>₹237</td>\n",
       "      <td>85% off</td>\n",
       "    </tr>\n",
       "    <tr>\n",
       "      <th>5</th>\n",
       "      <td>Mirrored, UV Protection Wayfarer Sunglasses (F...</td>\n",
       "      <td>₹284</td>\n",
       "      <td>89% off</td>\n",
       "    </tr>\n",
       "    <tr>\n",
       "      <th>6</th>\n",
       "      <td>UV Protection Aviator Sunglasses (54)</td>\n",
       "      <td>₹237</td>\n",
       "      <td>85% off</td>\n",
       "    </tr>\n",
       "    <tr>\n",
       "      <th>7</th>\n",
       "      <td>UV Protection Retro Square Sunglasses (58)</td>\n",
       "      <td>₹474</td>\n",
       "      <td>68% off</td>\n",
       "    </tr>\n",
       "    <tr>\n",
       "      <th>8</th>\n",
       "      <td>UV Protection Rectangular Sunglasses (58)</td>\n",
       "      <td>₹474</td>\n",
       "      <td>68% off</td>\n",
       "    </tr>\n",
       "    <tr>\n",
       "      <th>9</th>\n",
       "      <td>UV Protection Round Sunglasses (54)</td>\n",
       "      <td>₹213</td>\n",
       "      <td>80% off</td>\n",
       "    </tr>\n",
       "    <tr>\n",
       "      <th>10</th>\n",
       "      <td>Gradient, UV Protection Wayfarer Sunglasses (F...</td>\n",
       "      <td>₹509</td>\n",
       "      <td>36% off</td>\n",
       "    </tr>\n",
       "    <tr>\n",
       "      <th>11</th>\n",
       "      <td>Polarized, UV Protection Round Sunglasses (49)</td>\n",
       "      <td>₹664</td>\n",
       "      <td>66% off</td>\n",
       "    </tr>\n",
       "    <tr>\n",
       "      <th>12</th>\n",
       "      <td>UV Protection Wayfarer Sunglasses (Free Size)</td>\n",
       "      <td>₹758</td>\n",
       "      <td>15% off</td>\n",
       "    </tr>\n",
       "    <tr>\n",
       "      <th>13</th>\n",
       "      <td>UV Protection, Gradient Rectangular Sunglasses...</td>\n",
       "      <td>₹404</td>\n",
       "      <td>79% off</td>\n",
       "    </tr>\n",
       "    <tr>\n",
       "      <th>14</th>\n",
       "      <td>UV Protection Wayfarer Sunglasses (Free Size)</td>\n",
       "      <td>₹689</td>\n",
       "      <td>23% off</td>\n",
       "    </tr>\n",
       "    <tr>\n",
       "      <th>15</th>\n",
       "      <td>UV Protection, Gradient Wayfarer, Clubmaster S...</td>\n",
       "      <td>₹525</td>\n",
       "      <td>65% off</td>\n",
       "    </tr>\n",
       "    <tr>\n",
       "      <th>16</th>\n",
       "      <td>UV Protection Round Sunglasses (Free Size)</td>\n",
       "      <td>₹331</td>\n",
       "      <td>80% off</td>\n",
       "    </tr>\n",
       "    <tr>\n",
       "      <th>17</th>\n",
       "      <td>UV Protection, Polarized, Mirrored Rectangular...</td>\n",
       "      <td>₹215</td>\n",
       "      <td>78% off</td>\n",
       "    </tr>\n",
       "    <tr>\n",
       "      <th>18</th>\n",
       "      <td>UV Protection Retro Square Sunglasses (Free Size)</td>\n",
       "      <td>₹379</td>\n",
       "      <td>81% off</td>\n",
       "    </tr>\n",
       "    <tr>\n",
       "      <th>19</th>\n",
       "      <td>UV Protection Oval Sunglasses (Free Size)</td>\n",
       "      <td>₹449</td>\n",
       "      <td>70% off</td>\n",
       "    </tr>\n",
       "    <tr>\n",
       "      <th>20</th>\n",
       "      <td>UV Protection Retro Square Sunglasses (Free Size)</td>\n",
       "      <td>₹499</td>\n",
       "      <td>77% off</td>\n",
       "    </tr>\n",
       "    <tr>\n",
       "      <th>21</th>\n",
       "      <td>UV Protection, Polarized, Mirrored Wayfarer Su...</td>\n",
       "      <td>₹265</td>\n",
       "      <td>73% off</td>\n",
       "    </tr>\n",
       "    <tr>\n",
       "      <th>22</th>\n",
       "      <td>UV Protection Aviator Sunglasses (54)</td>\n",
       "      <td>₹237</td>\n",
       "      <td>85% off</td>\n",
       "    </tr>\n",
       "    <tr>\n",
       "      <th>23</th>\n",
       "      <td>Polarized, UV Protection Aviator Sunglasses (58)</td>\n",
       "      <td>₹799</td>\n",
       "      <td>60% off</td>\n",
       "    </tr>\n",
       "    <tr>\n",
       "      <th>24</th>\n",
       "      <td>UV Protection, Mirrored Aviator Sunglasses (58)</td>\n",
       "      <td>₹186</td>\n",
       "      <td>78% off</td>\n",
       "    </tr>\n",
       "    <tr>\n",
       "      <th>25</th>\n",
       "      <td>UV Protection Aviator Sunglasses (Free Size)</td>\n",
       "      <td>₹546</td>\n",
       "      <td>31% off</td>\n",
       "    </tr>\n",
       "    <tr>\n",
       "      <th>26</th>\n",
       "      <td>UV Protection Aviator, Wayfarer Sunglasses (Fr...</td>\n",
       "      <td>₹229</td>\n",
       "      <td>80% off</td>\n",
       "    </tr>\n",
       "    <tr>\n",
       "      <th>27</th>\n",
       "      <td>UV Protection Retro Square Sunglasses (88)</td>\n",
       "      <td>₹569</td>\n",
       "      <td>71% off</td>\n",
       "    </tr>\n",
       "    <tr>\n",
       "      <th>28</th>\n",
       "      <td>UV Protection Butterfly Sunglasses (65)</td>\n",
       "      <td>₹449</td>\n",
       "      <td>82% off</td>\n",
       "    </tr>\n",
       "    <tr>\n",
       "      <th>29</th>\n",
       "      <td>Others Round Sunglasses (52)</td>\n",
       "      <td>₹179</td>\n",
       "      <td>69% off</td>\n",
       "    </tr>\n",
       "    <tr>\n",
       "      <th>30</th>\n",
       "      <td>Mirrored, UV Protection Wayfarer Sunglasses (F...</td>\n",
       "      <td>₹284</td>\n",
       "      <td>89% off</td>\n",
       "    </tr>\n",
       "    <tr>\n",
       "      <th>31</th>\n",
       "      <td>UV Protection, Gradient Over-sized Sunglasses ...</td>\n",
       "      <td>₹664</td>\n",
       "      <td>66% off</td>\n",
       "    </tr>\n",
       "    <tr>\n",
       "      <th>32</th>\n",
       "      <td>UV Protection Wayfarer Sunglasses (Free Size)</td>\n",
       "      <td>₹246</td>\n",
       "      <td>83% off</td>\n",
       "    </tr>\n",
       "    <tr>\n",
       "      <th>33</th>\n",
       "      <td>Mirrored Aviator Sunglasses (55)</td>\n",
       "      <td>₹379</td>\n",
       "      <td>74% off</td>\n",
       "    </tr>\n",
       "    <tr>\n",
       "      <th>34</th>\n",
       "      <td>UV Protection, Polarized, Mirrored Wayfarer Su...</td>\n",
       "      <td>₹284</td>\n",
       "      <td>71% off</td>\n",
       "    </tr>\n",
       "    <tr>\n",
       "      <th>35</th>\n",
       "      <td>UV Protection Wayfarer Sunglasses (55)</td>\n",
       "      <td>₹248</td>\n",
       "      <td>80% off</td>\n",
       "    </tr>\n",
       "    <tr>\n",
       "      <th>36</th>\n",
       "      <td>UV Protection, Gradient, Mirrored, Riding Glas...</td>\n",
       "      <td>₹209</td>\n",
       "      <td>79% off</td>\n",
       "    </tr>\n",
       "    <tr>\n",
       "      <th>37</th>\n",
       "      <td>UV Protection, Gradient Round Sunglasses (Free...</td>\n",
       "      <td>₹449</td>\n",
       "      <td>77% off</td>\n",
       "    </tr>\n",
       "    <tr>\n",
       "      <th>38</th>\n",
       "      <td>Mirrored Round Sunglasses (53)</td>\n",
       "      <td>₹355</td>\n",
       "      <td>85% off</td>\n",
       "    </tr>\n",
       "  </tbody>\n",
       "</table>\n",
       "</div>"
      ],
      "text/plain": [
       "                                            product2_ price2_   disc2_\n",
       "0               UV Protection Aviator Sunglasses (57)    ₹284  85% off\n",
       "1              Polarized Retro Square Sunglasses (58)    ₹854  57% off\n",
       "2                 UV Protection Round Sunglasses (54)    ₹329  86% off\n",
       "3   UV Protection, Polarized, Mirrored Rectangular...    ₹198  88% off\n",
       "4               UV Protection Aviator Sunglasses (54)    ₹237  85% off\n",
       "5   Mirrored, UV Protection Wayfarer Sunglasses (F...    ₹284  89% off\n",
       "6               UV Protection Aviator Sunglasses (54)    ₹237  85% off\n",
       "7          UV Protection Retro Square Sunglasses (58)    ₹474  68% off\n",
       "8           UV Protection Rectangular Sunglasses (58)    ₹474  68% off\n",
       "9                 UV Protection Round Sunglasses (54)    ₹213  80% off\n",
       "10  Gradient, UV Protection Wayfarer Sunglasses (F...    ₹509  36% off\n",
       "11     Polarized, UV Protection Round Sunglasses (49)    ₹664  66% off\n",
       "12      UV Protection Wayfarer Sunglasses (Free Size)    ₹758  15% off\n",
       "13  UV Protection, Gradient Rectangular Sunglasses...    ₹404  79% off\n",
       "14      UV Protection Wayfarer Sunglasses (Free Size)    ₹689  23% off\n",
       "15  UV Protection, Gradient Wayfarer, Clubmaster S...    ₹525  65% off\n",
       "16         UV Protection Round Sunglasses (Free Size)    ₹331  80% off\n",
       "17  UV Protection, Polarized, Mirrored Rectangular...    ₹215  78% off\n",
       "18  UV Protection Retro Square Sunglasses (Free Size)    ₹379  81% off\n",
       "19          UV Protection Oval Sunglasses (Free Size)    ₹449  70% off\n",
       "20  UV Protection Retro Square Sunglasses (Free Size)    ₹499  77% off\n",
       "21  UV Protection, Polarized, Mirrored Wayfarer Su...    ₹265  73% off\n",
       "22              UV Protection Aviator Sunglasses (54)    ₹237  85% off\n",
       "23   Polarized, UV Protection Aviator Sunglasses (58)    ₹799  60% off\n",
       "24    UV Protection, Mirrored Aviator Sunglasses (58)    ₹186  78% off\n",
       "25       UV Protection Aviator Sunglasses (Free Size)    ₹546  31% off\n",
       "26  UV Protection Aviator, Wayfarer Sunglasses (Fr...    ₹229  80% off\n",
       "27         UV Protection Retro Square Sunglasses (88)    ₹569  71% off\n",
       "28            UV Protection Butterfly Sunglasses (65)    ₹449  82% off\n",
       "29                       Others Round Sunglasses (52)    ₹179  69% off\n",
       "30  Mirrored, UV Protection Wayfarer Sunglasses (F...    ₹284  89% off\n",
       "31  UV Protection, Gradient Over-sized Sunglasses ...    ₹664  66% off\n",
       "32      UV Protection Wayfarer Sunglasses (Free Size)    ₹246  83% off\n",
       "33                   Mirrored Aviator Sunglasses (55)    ₹379  74% off\n",
       "34  UV Protection, Polarized, Mirrored Wayfarer Su...    ₹284  71% off\n",
       "35             UV Protection Wayfarer Sunglasses (55)    ₹248  80% off\n",
       "36  UV Protection, Gradient, Mirrored, Riding Glas...    ₹209  79% off\n",
       "37  UV Protection, Gradient Round Sunglasses (Free...    ₹449  77% off\n",
       "38                     Mirrored Round Sunglasses (53)    ₹355  85% off"
      ]
     },
     "execution_count": 144,
     "metadata": {},
     "output_type": "execute_result"
    }
   ],
   "source": [
    "fp2"
   ]
  },
  {
   "cell_type": "code",
   "execution_count": 147,
   "metadata": {},
   "outputs": [],
   "source": [
    "df_append=fp1.append(fp2,ignore_index =True)"
   ]
  },
  {
   "cell_type": "code",
   "execution_count": 148,
   "metadata": {},
   "outputs": [
    {
     "data": {
      "text/html": [
       "<div>\n",
       "<style scoped>\n",
       "    .dataframe tbody tr th:only-of-type {\n",
       "        vertical-align: middle;\n",
       "    }\n",
       "\n",
       "    .dataframe tbody tr th {\n",
       "        vertical-align: top;\n",
       "    }\n",
       "\n",
       "    .dataframe thead th {\n",
       "        text-align: right;\n",
       "    }\n",
       "</style>\n",
       "<table border=\"1\" class=\"dataframe\">\n",
       "  <thead>\n",
       "    <tr style=\"text-align: right;\">\n",
       "      <th></th>\n",
       "      <th>brand_</th>\n",
       "      <th>price_</th>\n",
       "      <th>discount_</th>\n",
       "      <th>product2_</th>\n",
       "      <th>price2_</th>\n",
       "      <th>disc2_</th>\n",
       "    </tr>\n",
       "  </thead>\n",
       "  <tbody>\n",
       "    <tr>\n",
       "      <th>0</th>\n",
       "      <td>Polarized, UV Protection Round Sunglasses (53)</td>\n",
       "      <td>₹699</td>\n",
       "      <td>65% off</td>\n",
       "      <td>NaN</td>\n",
       "      <td>NaN</td>\n",
       "      <td>NaN</td>\n",
       "    </tr>\n",
       "    <tr>\n",
       "      <th>1</th>\n",
       "      <td>UV Protection Oval Sunglasses (Free Size)</td>\n",
       "      <td>₹449</td>\n",
       "      <td>70% off</td>\n",
       "      <td>NaN</td>\n",
       "      <td>NaN</td>\n",
       "      <td>NaN</td>\n",
       "    </tr>\n",
       "    <tr>\n",
       "      <th>2</th>\n",
       "      <td>UV Protection Round Sunglasses (54)</td>\n",
       "      <td>₹329</td>\n",
       "      <td>86% off</td>\n",
       "      <td>NaN</td>\n",
       "      <td>NaN</td>\n",
       "      <td>NaN</td>\n",
       "    </tr>\n",
       "    <tr>\n",
       "      <th>3</th>\n",
       "      <td>UV Protection, Polarized, Mirrored Rectangular...</td>\n",
       "      <td>₹198</td>\n",
       "      <td>88% off</td>\n",
       "      <td>NaN</td>\n",
       "      <td>NaN</td>\n",
       "      <td>NaN</td>\n",
       "    </tr>\n",
       "    <tr>\n",
       "      <th>4</th>\n",
       "      <td>UV Protection Aviator Sunglasses (54)</td>\n",
       "      <td>₹237</td>\n",
       "      <td>85% off</td>\n",
       "      <td>NaN</td>\n",
       "      <td>NaN</td>\n",
       "      <td>NaN</td>\n",
       "    </tr>\n",
       "    <tr>\n",
       "      <th>...</th>\n",
       "      <td>...</td>\n",
       "      <td>...</td>\n",
       "      <td>...</td>\n",
       "      <td>...</td>\n",
       "      <td>...</td>\n",
       "      <td>...</td>\n",
       "    </tr>\n",
       "    <tr>\n",
       "      <th>73</th>\n",
       "      <td>NaN</td>\n",
       "      <td>NaN</td>\n",
       "      <td>NaN</td>\n",
       "      <td>UV Protection, Polarized, Mirrored Wayfarer Su...</td>\n",
       "      <td>₹284</td>\n",
       "      <td>71% off</td>\n",
       "    </tr>\n",
       "    <tr>\n",
       "      <th>74</th>\n",
       "      <td>NaN</td>\n",
       "      <td>NaN</td>\n",
       "      <td>NaN</td>\n",
       "      <td>UV Protection Wayfarer Sunglasses (55)</td>\n",
       "      <td>₹248</td>\n",
       "      <td>80% off</td>\n",
       "    </tr>\n",
       "    <tr>\n",
       "      <th>75</th>\n",
       "      <td>NaN</td>\n",
       "      <td>NaN</td>\n",
       "      <td>NaN</td>\n",
       "      <td>UV Protection, Gradient, Mirrored, Riding Glas...</td>\n",
       "      <td>₹209</td>\n",
       "      <td>79% off</td>\n",
       "    </tr>\n",
       "    <tr>\n",
       "      <th>76</th>\n",
       "      <td>NaN</td>\n",
       "      <td>NaN</td>\n",
       "      <td>NaN</td>\n",
       "      <td>UV Protection, Gradient Round Sunglasses (Free...</td>\n",
       "      <td>₹449</td>\n",
       "      <td>77% off</td>\n",
       "    </tr>\n",
       "    <tr>\n",
       "      <th>77</th>\n",
       "      <td>NaN</td>\n",
       "      <td>NaN</td>\n",
       "      <td>NaN</td>\n",
       "      <td>Mirrored Round Sunglasses (53)</td>\n",
       "      <td>₹355</td>\n",
       "      <td>85% off</td>\n",
       "    </tr>\n",
       "  </tbody>\n",
       "</table>\n",
       "<p>78 rows × 6 columns</p>\n",
       "</div>"
      ],
      "text/plain": [
       "                                               brand_ price_ discount_  \\\n",
       "0      Polarized, UV Protection Round Sunglasses (53)   ₹699   65% off   \n",
       "1           UV Protection Oval Sunglasses (Free Size)   ₹449   70% off   \n",
       "2                 UV Protection Round Sunglasses (54)   ₹329   86% off   \n",
       "3   UV Protection, Polarized, Mirrored Rectangular...   ₹198   88% off   \n",
       "4               UV Protection Aviator Sunglasses (54)   ₹237   85% off   \n",
       "..                                                ...    ...       ...   \n",
       "73                                                NaN    NaN       NaN   \n",
       "74                                                NaN    NaN       NaN   \n",
       "75                                                NaN    NaN       NaN   \n",
       "76                                                NaN    NaN       NaN   \n",
       "77                                                NaN    NaN       NaN   \n",
       "\n",
       "                                            product2_ price2_   disc2_  \n",
       "0                                                 NaN     NaN      NaN  \n",
       "1                                                 NaN     NaN      NaN  \n",
       "2                                                 NaN     NaN      NaN  \n",
       "3                                                 NaN     NaN      NaN  \n",
       "4                                                 NaN     NaN      NaN  \n",
       "..                                                ...     ...      ...  \n",
       "73  UV Protection, Polarized, Mirrored Wayfarer Su...    ₹284  71% off  \n",
       "74             UV Protection Wayfarer Sunglasses (55)    ₹248  80% off  \n",
       "75  UV Protection, Gradient, Mirrored, Riding Glas...    ₹209  79% off  \n",
       "76  UV Protection, Gradient Round Sunglasses (Free...    ₹449  77% off  \n",
       "77                     Mirrored Round Sunglasses (53)    ₹355  85% off  \n",
       "\n",
       "[78 rows x 6 columns]"
      ]
     },
     "execution_count": 148,
     "metadata": {},
     "output_type": "execute_result"
    }
   ],
   "source": [
    "df_append"
   ]
  },
  {
   "cell_type": "markdown",
   "metadata": {},
   "source": [
    "# question  7 "
   ]
  },
  {
   "cell_type": "code",
   "execution_count": 195,
   "metadata": {},
   "outputs": [],
   "source": [
    "driver = webdriver.Chrome(\"chromedriver.exe\")"
   ]
  },
  {
   "cell_type": "code",
   "execution_count": 196,
   "metadata": {},
   "outputs": [],
   "source": [
    "url = \"https://www.flipkart.com/apple-iphone-11-black-64-gb-includes-earpods-power-adapter/p/itm0f37c2240b217?pid=MOBFKCTSVZAXUHGR&lid=LSTMOBFKCTSVZAXUHGREPBFGI&marketplace\""
   ]
  },
  {
   "cell_type": "code",
   "execution_count": 197,
   "metadata": {},
   "outputs": [],
   "source": [
    "driver.get(url)"
   ]
  },
  {
   "cell_type": "code",
   "execution_count": 1,
   "metadata": {},
   "outputs": [],
   "source": [
    "import pandas as pd\n",
    "import selenium\n",
    "from selenium import webdriver\n",
    "import time\n",
    "from selenium.common.exceptions import NoSuchElementException  #importing exceptions"
   ]
  },
  {
   "cell_type": "code",
   "execution_count": null,
   "metadata": {},
   "outputs": [],
   "source": []
  },
  {
   "cell_type": "code",
   "execution_count": 205,
   "metadata": {},
   "outputs": [],
   "source": [
    "\n",
    "for i in range(1,10):\n",
    "    \n",
    "    re=driver.find_element_by_xpath(\"//p[@class='_2-N8zT']\")\n",
    "    next_btn = driver.find_element_by_xpath(\"//a[@class='_1LKTO3']\")\n",
    "    \n",
    "          \n",
    "        \n",
    "    "
   ]
  },
  {
   "cell_type": "code",
   "execution_count": 206,
   "metadata": {},
   "outputs": [],
   "source": [
    "next_btn.click()"
   ]
  },
  {
   "cell_type": "code",
   "execution_count": null,
   "metadata": {},
   "outputs": [],
   "source": []
  },
  {
   "cell_type": "code",
   "execution_count": null,
   "metadata": {},
   "outputs": [],
   "source": []
  },
  {
   "cell_type": "code",
   "execution_count": null,
   "metadata": {},
   "outputs": [],
   "source": []
  },
  {
   "cell_type": "markdown",
   "metadata": {},
   "source": [
    "# question 2 "
   ]
  },
  {
   "cell_type": "markdown",
   "metadata": {},
   "source": [
    "# exceptional handling "
   ]
  },
  {
   "cell_type": "code",
   "execution_count": 2,
   "metadata": {},
   "outputs": [],
   "source": [
    "import pandas as pd\n",
    "import selenium\n",
    "from selenium import webdriver\n",
    "import time\n",
    "from selenium.common.exceptions import NoSuchElementException  #importing exceptions"
   ]
  },
  {
   "cell_type": "code",
   "execution_count": 3,
   "metadata": {},
   "outputs": [],
   "source": [
    "driver = webdriver.Chrome(\"chromedriver.exe\")"
   ]
  },
  {
   "cell_type": "code",
   "execution_count": 4,
   "metadata": {},
   "outputs": [],
   "source": [
    "driver.get(\"https://www.naukri.com/\")"
   ]
  },
  {
   "cell_type": "code",
   "execution_count": 5,
   "metadata": {},
   "outputs": [],
   "source": [
    "job_search = driver.find_element_by_class_name(\"sugInp\")"
   ]
  },
  {
   "cell_type": "code",
   "execution_count": 6,
   "metadata": {},
   "outputs": [],
   "source": [
    "job_search.send_keys(\"data scientist\")"
   ]
  },
  {
   "cell_type": "code",
   "execution_count": 7,
   "metadata": {},
   "outputs": [],
   "source": [
    "location = driver.find_element_by_id(\"qsb-location-sugg\")"
   ]
  },
  {
   "cell_type": "code",
   "execution_count": 8,
   "metadata": {},
   "outputs": [],
   "source": [
    "location.send_keys(\"banglore\")"
   ]
  },
  {
   "cell_type": "code",
   "execution_count": 9,
   "metadata": {},
   "outputs": [],
   "source": [
    "btn = driver.find_element_by_class_name(\"btn\")"
   ]
  },
  {
   "cell_type": "code",
   "execution_count": 10,
   "metadata": {},
   "outputs": [],
   "source": [
    "btn.click()"
   ]
  },
  {
   "cell_type": "code",
   "execution_count": 12,
   "metadata": {},
   "outputs": [],
   "source": [
    "url = []\n",
    "for i in driver.find_elements_by_class_name(\"title fw500 ellipsis\"):\n",
    "    url.append(i.get_attribute(\"href\"))"
   ]
  },
  {
   "cell_type": "code",
   "execution_count": 13,
   "metadata": {},
   "outputs": [
    {
     "data": {
      "text/plain": [
       "[]"
      ]
     },
     "execution_count": 13,
     "metadata": {},
     "output_type": "execute_result"
    }
   ],
   "source": [
    "url"
   ]
  },
  {
   "cell_type": "code",
   "execution_count": null,
   "metadata": {},
   "outputs": [],
   "source": []
  }
 ],
 "metadata": {
  "kernelspec": {
   "display_name": "Python 3",
   "language": "python",
   "name": "python3"
  },
  "language_info": {
   "codemirror_mode": {
    "name": "ipython",
    "version": 3
   },
   "file_extension": ".py",
   "mimetype": "text/x-python",
   "name": "python",
   "nbconvert_exporter": "python",
   "pygments_lexer": "ipython3",
   "version": "3.8.5"
  }
 },
 "nbformat": 4,
 "nbformat_minor": 4
}
